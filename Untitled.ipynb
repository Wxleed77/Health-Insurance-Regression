{
 "cells": [
  {
   "cell_type": "code",
   "execution_count": 11,
   "id": "33510c91-e9a8-4b31-adf8-5ddd5863b1f4",
   "metadata": {},
   "outputs": [],
   "source": [
    "import pandas as pd\n",
    "import numpy as np\n",
    "\n",
    "df = pd.read_csv('Salary Data.csv')"
   ]
  },
  {
   "cell_type": "code",
   "execution_count": 60,
   "id": "5884e0d2-7b7d-4355-98bc-62fe7c936237",
   "metadata": {},
   "outputs": [
    {
     "data": {
      "text/plain": [
       "(375, 6)"
      ]
     },
     "execution_count": 60,
     "metadata": {},
     "output_type": "execute_result"
    }
   ],
   "source": [
    "df.head()\n",
    "df.shape"
   ]
  },
  {
   "cell_type": "code",
   "execution_count": 39,
   "id": "98f884bf-4075-4867-ba8f-b1a1c0dc25cc",
   "metadata": {},
   "outputs": [
    {
     "data": {
      "text/plain": [
       "3"
      ]
     },
     "execution_count": 39,
     "metadata": {},
     "output_type": "execute_result"
    }
   ],
   "source": [
    "#df['Job Title'].nunique()\n",
    "df['Education Level'].nunique()"
   ]
  },
  {
   "cell_type": "code",
   "execution_count": 14,
   "id": "3d06aded-a74e-4b99-9c2e-1e788e2636ae",
   "metadata": {},
   "outputs": [
    {
     "data": {
      "text/plain": [
       "Age                    2\n",
       "Gender                 2\n",
       "Education Level        2\n",
       "Job Title              2\n",
       "Years of Experience    2\n",
       "Salary                 2\n",
       "dtype: int64"
      ]
     },
     "execution_count": 14,
     "metadata": {},
     "output_type": "execute_result"
    }
   ],
   "source": [
    "df.isnull().sum()"
   ]
  },
  {
   "cell_type": "code",
   "execution_count": 16,
   "id": "398d8d13-a019-4487-bc44-1ce33773fa6d",
   "metadata": {},
   "outputs": [],
   "source": [
    "# Fill numerical columns with mean \n",
    "df['Age']=df['Age'].fillna(df['Age'].mean())\n",
    "df['Years of Experience']=df['Years of Experience'].fillna(df['Years of Experience'].mean())\n",
    "df['Salary']=df['Salary'].fillna(df['Salary'].mean())\n",
    "\n",
    "# Fill categorical columns with mode\n",
    "df['Gender']=df['Gender'].fillna(df['Gender'].mode()[0])\n",
    "df['Job Title']=df['Job Title'].fillna(df['Job Title'].mode()[0])\n",
    "df['Education Level']=df['Education Level'].fillna(df['Education Level'].mode()[0])"
   ]
  },
  {
   "cell_type": "code",
   "execution_count": 17,
   "id": "3068dd62-f4b8-4a78-b082-f221b14aea4f",
   "metadata": {},
   "outputs": [
    {
     "data": {
      "text/plain": [
       "Age                    0\n",
       "Gender                 0\n",
       "Education Level        0\n",
       "Job Title              0\n",
       "Years of Experience    0\n",
       "Salary                 0\n",
       "dtype: int64"
      ]
     },
     "execution_count": 17,
     "metadata": {},
     "output_type": "execute_result"
    }
   ],
   "source": [
    "df.isnull().sum()"
   ]
  },
  {
   "cell_type": "code",
   "execution_count": 19,
   "id": "49ec2944-8e4f-4a81-8ec9-695f04e3a983",
   "metadata": {},
   "outputs": [
    {
     "data": {
      "image/png": "[encoded data removed]",
      "text/plain": [
       "<Figure size 1000x600 with 1 Axes>"
      ]
     },
     "metadata": {},
     "output_type": "display_data"
    }
   ],
   "source": [
    "import matplotlib.pyplot as plt\n",
    "df['log_Salary'] = np.log(df['Salary'])\n",
    "to_be_plot='log_Salary'\n",
    "plt.figure(figsize=(10,6))\n",
    "plt.hist(df[to_be_plot] , bins=10 , edgecolor='black' ,color = 'skyblue')\n",
    "plt.title(f'Distribution of {to_be_plot.capitalize()}')\n",
    "plt.xlabel(to_be_plot.capitalize())\n",
    "plt.ylabel('Frequency')\n",
    "plt.grid(axis='y', linestyle='--', alpha=0.7)\n",
    "plt.show()"
   ]
  },
  {
   "cell_type": "code",
   "execution_count": 48,
   "id": "56028d31-bb62-4bae-b0fe-d82bd9f98f7c",
   "metadata": {},
   "outputs": [
    {
     "data": {
      "text/html": [
       "<div>\n",
       "<style scoped>\n",
       "    .dataframe tbody tr th:only-of-type {\n",
       "        vertical-align: middle;\n",
       "    }\n",
       "\n",
       "    .dataframe tbody tr th {\n",
       "        vertical-align: top;\n",
       "    }\n",
       "\n",
       "    .dataframe thead th {\n",
       "        text-align: right;\n",
       "    }\n",
       "</style>\n",
       "<table border=\"1\" class=\"dataframe\">\n",
       "  <thead>\n",
       "    <tr style=\"text-align: right;\">\n",
       "      <th></th>\n",
       "      <th>Age</th>\n",
       "      <th>Gender</th>\n",
       "      <th>Education Level</th>\n",
       "      <th>Years of Experience</th>\n",
       "    </tr>\n",
       "  </thead>\n",
       "  <tbody>\n",
       "    <tr>\n",
       "      <th>193</th>\n",
       "      <td>34.0</td>\n",
       "      <td>Male</td>\n",
       "      <td>Bachelor's</td>\n",
       "      <td>7.0</td>\n",
       "    </tr>\n",
       "    <tr>\n",
       "      <th>75</th>\n",
       "      <td>37.0</td>\n",
       "      <td>Male</td>\n",
       "      <td>Bachelor's</td>\n",
       "      <td>10.0</td>\n",
       "    </tr>\n",
       "    <tr>\n",
       "      <th>84</th>\n",
       "      <td>29.0</td>\n",
       "      <td>Female</td>\n",
       "      <td>Bachelor's</td>\n",
       "      <td>2.0</td>\n",
       "    </tr>\n",
       "    <tr>\n",
       "      <th>363</th>\n",
       "      <td>33.0</td>\n",
       "      <td>Male</td>\n",
       "      <td>Bachelor's</td>\n",
       "      <td>5.0</td>\n",
       "    </tr>\n",
       "    <tr>\n",
       "      <th>16</th>\n",
       "      <td>33.0</td>\n",
       "      <td>Female</td>\n",
       "      <td>Master's</td>\n",
       "      <td>7.0</td>\n",
       "    </tr>\n",
       "  </tbody>\n",
       "</table>\n",
       "</div>"
      ],
      "text/plain": [
       "      Age  Gender Education Level  Years of Experience\n",
       "193  34.0    Male      Bachelor's                  7.0\n",
       "75   37.0    Male      Bachelor's                 10.0\n",
       "84   29.0  Female      Bachelor's                  2.0\n",
       "363  33.0    Male      Bachelor's                  5.0\n",
       "16   33.0  Female        Master's                  7.0"
      ]
     },
     "execution_count": 48,
     "metadata": {},
     "output_type": "execute_result"
    }
   ],
   "source": [
    "from sklearn.model_selection import train_test_split\n",
    "\n",
    "#df = df.drop(columns=['Job Title'] , axis=1)\n",
    "X = df.drop(columns=['Salary','log_Salary'])\n",
    "y = df['Salary']\n",
    "\n",
    "X_train , X_test , y_train , y_test = train_test_split(X , y , test_size=0.2 , random_state = 42)\n",
    "X_train.head()"
   ]
  },
  {
   "cell_type": "code",
   "execution_count": 58,
   "id": "fdb81bde-5d44-4ff1-9fb5-32c441a46bd8",
   "metadata": {},
   "outputs": [],
   "source": [
    "from sklearn.compose import ColumnTransformer\n",
    "from sklearn.preprocessing import OneHotEncoder,LabelEncoder,OrdinalEncoder\n",
    "from sklearn.pipeline import Pipeline\n",
    "from sklearn.linear_model import LinearRegression\n",
    "from sklearn.metrics import mean_squared_error, r2_score,make_scorer\n",
    "from sklearn.model_selection import cross_val_score\n",
    "from sklearn.linear_model import Ridge"
   ]
  },
  {
   "cell_type": "code",
   "execution_count": 59,
   "id": "32028839-b070-4714-84a1-82bbd8c51d59",
   "metadata": {},
   "outputs": [
    {
     "name": "stdout",
     "output_type": "stream",
     "text": [
      "=== Test Set Evaluation ===\n",
      "MSE: 237432910.4316717\n",
      "R²: 0.9019883718560014\n",
      "\n",
      "=== Cross-Validation Results ===\n",
      "Cross-Validation MSE Scores: [3.25979890e+08 6.08665125e+08 1.01791064e+08 2.01125786e+08\n",
      " 2.09558404e+08]\n",
      "Mean MSE: 289424053.8096 (±174718308.0127)\n",
      "\n",
      "Cross-Validation R² Scores: [0.87452574 0.73773277 0.95337998 0.90374086 0.90667194]\n",
      "Mean R²: 0.8752 (±0.0732)\n"
     ]
    }
   ],
   "source": [
    "Ordinal_columns = ['Education Level']\n",
    "Nominal_Columns  = ['Gender']\n",
    "Order_of_education = [\"Bachelor's\",\"Master's\",\"PhD\"]\n",
    "\n",
    "preprocessor = ColumnTransformer([\n",
    "    ('ohe', OneHotEncoder(drop='first'), Nominal_Columns),\n",
    "    ('Ord', OrdinalEncoder(categories=[Order_of_education]), Ordinal_columns)\n",
    "], remainder = 'passthrough')\n",
    "\n",
    "pipeline = Pipeline([\n",
    "    ('prep',preprocessor),\n",
    "    ('model',Ridge(alpha=1.0))\n",
    "])\n",
    "\n",
    "pipeline.fit(X_train,y_train)\n",
    "y_pred = pipeline.predict(X_test)\n",
    "\n",
    "# Evaluate on test set\n",
    "print(\"=== Test Set Evaluation ===\")\n",
    "print(\"MSE:\", mean_squared_error(y_test, y_pred))\n",
    "print(\"R²:\", r2_score(y_test, y_pred))\n",
    "print()\n",
    "\n",
    "# Cross-validation on the entire dataset (X, y)\n",
    "print(\"=== Cross-Validation Results ===\")\n",
    "\n",
    "# Define scoring metrics\n",
    "scoring = {\n",
    "    'mse': make_scorer(mean_squared_error, greater_is_better=False),\n",
    "    'r2': 'r2'\n",
    "}\n",
    "\n",
    "# Perform cross-validation (typically 5 or 10 folds)\n",
    "cv_scores_mse = cross_val_score(pipeline, X, y, cv=5, scoring='neg_mean_squared_error')\n",
    "cv_scores_r2 = cross_val_score(pipeline, X, y, cv=5, scoring='r2')\n",
    "\n",
    "# Convert negative MSE to positive and calculate mean/std\n",
    "mse_scores = -cv_scores_mse  # Convert back to positive MSE\n",
    "\n",
    "print(f\"Cross-Validation MSE Scores: {mse_scores}\")\n",
    "print(f\"Mean MSE: {mse_scores.mean():.4f} (±{mse_scores.std():.4f})\")\n",
    "print()\n",
    "\n",
    "print(f\"Cross-Validation R² Scores: {cv_scores_r2}\")\n",
    "print(f\"Mean R²: {cv_scores_r2.mean():.4f} (±{cv_scores_r2.std():.4f})\")\n",
    "\n"
   ]
  },
  {
   "cell_type": "code",
   "execution_count": null,
   "id": "b1f71880-3b86-45be-af95-ab4fc47e593f",
   "metadata": {},
   "outputs": [],
   "source": []
  }
 ],
 "metadata": {
  "kernelspec": {
   "display_name": "Python [conda env:base] *",
   "language": "python",
   "name": "conda-base-py"
  },
  "language_info": {
   "codemirror_mode": {
    "name": "ipython",
    "version": 3
   },
   "file_extension": ".py",
   "mimetype": "text/x-python",
   "name": "python",
   "nbconvert_exporter": "python",
   "pygments_lexer": "ipython3",
   "version": "3.13.5"
  }
 },
 "nbformat": 4,
 "nbformat_minor": 5
}
